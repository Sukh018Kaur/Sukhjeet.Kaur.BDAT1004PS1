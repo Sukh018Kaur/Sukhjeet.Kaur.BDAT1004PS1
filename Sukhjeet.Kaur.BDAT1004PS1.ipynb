{
 "cells": [
  {
   "cell_type": "markdown",
   "id": "0c0566fd",
   "metadata": {},
   "source": [
    "# Problem Set 1\n",
    "\n",
    "# Question 1\n",
    "\n",
    "#What data type is each of the following (evaluate where necessary)?\n",
    "#5, 5.0, 5>1, '5', 5*2, '5'*2, '5'+'2', 5/2, 5%2, {5,2,1}, 5==3, pi(the number)\n",
    "a=5\n",
    "print(type(a))"
   ]
  },
  {
   "cell_type": "code",
   "execution_count": 2,
   "id": "03423960",
   "metadata": {},
   "outputs": [
    {
     "name": "stdout",
     "output_type": "stream",
     "text": [
      "<class 'int'>\n",
      "<class 'float'>\n",
      "<class 'bool'>\n",
      "<class 'str'>\n",
      "<class 'int'>\n",
      "<class 'str'>\n",
      "<class 'str'>\n",
      "<class 'float'>\n",
      "<class 'int'>\n",
      "<class 'set'>\n",
      "<class 'bool'>\n",
      "<class 'str'>\n"
     ]
    }
   ],
   "source": [
    "a=[5, 5.0, 5>1, '5', 5*2, '5'*2, '5'+'2']\n",
    "b=[5/2, 5%2, {5,2,1}, 5==3, 'pi(the number)']\n",
    "for i in a:\n",
    "    print(type(i))\n",
    "for j in b:\n",
    "    print(type(j))"
   ]
  },
  {
   "cell_type": "markdown",
   "id": "3f53c9c5",
   "metadata": {},
   "source": [
    "# Question 2\n",
    "#Write (and evaluate) python expressions that answer these questions:\n",
    "#a. How many letters are there in 'Supercalifragilisticexpialidocious'?\n",
    "#b. Does 'Supercalifragilisticexpialidocious' contain 'ice' as a substring?\n",
    "#c. Which of the following words is the longest:\n",
    "#Supercalifragilisticexpialidocious, Honorificabilitudinitatibus, or\n",
    "#Bababadalgharaghtakamminarronnkonn?\n",
    "#d. Which composer comes first in the dictionary: 'Berlioz', 'Borodin', 'Brian',\n",
    "#'Bartok', 'Bellini', 'Buxtehude', 'Bernstein'. Which one comes last?"
   ]
  },
  {
   "cell_type": "code",
   "execution_count": 6,
   "id": "605e6eef",
   "metadata": {},
   "outputs": [
    {
     "name": "stdout",
     "output_type": "stream",
     "text": [
      "there are 34 letters in the word\n"
     ]
    }
   ],
   "source": [
    "# a\n",
    "word='Supercalifragilisticexpialidocious'\n",
    "num=len(word)\n",
    "print(\"there are\",num,\"letters in the word\")"
   ]
  },
  {
   "cell_type": "code",
   "execution_count": 7,
   "id": "bf8331db",
   "metadata": {
    "scrolled": true
   },
   "outputs": [
    {
     "name": "stdout",
     "output_type": "stream",
     "text": [
      "YES, ice is a substring of 'Supercalifragilisticexpialidocious'\n"
     ]
    }
   ],
   "source": [
    "#b\n",
    "word='Supercalifragilisticexpialidocious'\n",
    "substring='ice'\n",
    "if substring in word:\n",
    "    print(\"YES, ice is a substring of 'Supercalifragilisticexpialidocious'\")\n",
    "else:\n",
    "    print(\"ice is not a substring of 'Supercalifragilisticexpialidocious'\")"
   ]
  },
  {
   "cell_type": "code",
   "execution_count": 8,
   "id": "302abab0",
   "metadata": {},
   "outputs": [
    {
     "name": "stdout",
     "output_type": "stream",
     "text": [
      "the longest word is Supercalifragilisticexpialidocious\n"
     ]
    }
   ],
   "source": [
    "#c\n",
    "words=['Supercalifragilisticexpialidocious', 'Honorificabilitudinitatibus','Bababadalgharaghtakamminarronnkonn']\n",
    "longest_word= max(words,key=len)\n",
    "print(\"the longest word is\", longest_word)"
   ]
  },
  {
   "cell_type": "code",
   "execution_count": 9,
   "id": "d2aa56a5",
   "metadata": {},
   "outputs": [
    {
     "name": "stdout",
     "output_type": "stream",
     "text": [
      "the first composer in the dictionary= Bartok\n",
      "the last composer in the dictionary= Buxtehude\n"
     ]
    }
   ],
   "source": [
    "#d\n",
    "dictionary = ['Berlioz', 'Borodin', 'Brian', 'Bartok', 'Bellini', 'Buxtehude', 'Bernstein']\n",
    "dictionary.sort()\n",
    "first_dictionary= dictionary[0]\n",
    "last_dictionary=dictionary[-1]\n",
    "print(\"the first composer in the dictionary=\",first_dictionary)\n",
    "print(\"the last composer in the dictionary=\",last_dictionary)"
   ]
  },
  {
   "cell_type": "markdown",
   "id": "c91c41e4",
   "metadata": {},
   "source": [
    "# Question 3\n",
    "#Implement function triangleArea(a,b,c) that takes as input the lengths of the 3\n",
    "#sides of a triangle and returns the area of the triangle. By Heron's formula, the areaof a triangle with side lengths a, b, and c is\n",
    "#√(s(s-a)(s-b)(s-c)), where s = (a+b+c)/2. \n",
    "#>>> triangleArea(2,2,2)\n",
    "#1.7320508075688772"
   ]
  },
  {
   "cell_type": "code",
   "execution_count": 11,
   "id": "acb37e2a",
   "metadata": {},
   "outputs": [
    {
     "name": "stdout",
     "output_type": "stream",
     "text": [
      "Enter the length of side a: 2\n",
      "Enter the length of side b: 2\n",
      "Enter the length of side c: 2\n",
      "The area of the triangle is: 1.7320508075688772\n"
     ]
    }
   ],
   "source": [
    "import math\n",
    "\n",
    "def triangleArea(a, b, c):\n",
    "    # Calculate semi-perimeter\n",
    "    s = (a + b + c) / 2\n",
    "\n",
    "    # Calculate area using Heron's formula\n",
    "    area = math.sqrt(s * (s - a) * (s - b) * (s - c))\n",
    "\n",
    "    return area\n",
    "\n",
    "def get_triangle_sides():\n",
    "    # Input lengths of the triangle sides from the user\n",
    "    a = float(input(\"Enter the length of side a: \"))\n",
    "    b = float(input(\"Enter the length of side b: \"))\n",
    "    c = float(input(\"Enter the length of side c: \"))\n",
    "\n",
    "    return a, b, c\n",
    "\n",
    "# Get lengths of the triangle sides from the user\n",
    "side1, side2, side3 = get_triangle_sides()\n",
    "\n",
    "# Calculate the area of the triangle\n",
    "area = triangleArea(side1, side2, side3)\n",
    "\n",
    "print(\"The area of the triangle is:\",area)"
   ]
  },
  {
   "cell_type": "markdown",
   "id": "117cfda0",
   "metadata": {},
   "source": [
    "# Question 3\n",
    "#Write a program in python to separate odd and even integers in separate arrays. Go\n",
    "#to the editor\n",
    "#Test Data :\n",
    "#Input the number of elements to be stored in the array :5\n",
    "#Input 5 elements in the array :\n",
    "#element - 0 : 25 , element - 1 : 47, element - 2 : 42, element - 3 : 56, element - 4 : 32\n",
    "#Expected Output:\n",
    "#The Even elements are: 42 56 32, The Odd elements are :25 47"
   ]
  },
  {
   "cell_type": "code",
   "execution_count": 19,
   "id": "677345ef",
   "metadata": {},
   "outputs": [
    {
     "name": "stdout",
     "output_type": "stream",
     "text": [
      "Input the number of elements to be stored in the array: 5\n",
      "element - 0 : 25\n",
      "element - 1 : 47\n",
      "element - 2 : 42\n",
      "element - 3 : 56\n",
      "element - 4 : 32\n",
      "The Even elements are:\n",
      "42 56 32\n",
      "The Odd elements are:\n",
      "25 47\n"
     ]
    }
   ],
   "source": [
    "num_elements = int(input(\"Input the number of elements to be stored in the array: \"))\n",
    "even_numbers = []\n",
    "odd_numbers = []\n",
    "for i in range(num_elements):        # for loop\n",
    "    element = int(input(f\"element - {i} : \"))\n",
    "    if element % 2 == 0:\n",
    "        even_numbers.append(element)\n",
    "    else:\n",
    "        odd_numbers.append(element)\n",
    "# Display the even and odd numbers\n",
    "print(\"The Even elements are:\")\n",
    "print(\" \".join(map(str, even_numbers)))  \n",
    "print(\"The Odd elements are:\")\n",
    "print(\" \".join(map(str, odd_numbers)))   "
   ]
  },
  {
   "cell_type": "markdown",
   "id": "53905450",
   "metadata": {},
   "source": [
    "# Question 5 "
   ]
  },
  {
   "cell_type": "markdown",
   "id": "70288edf",
   "metadata": {},
   "source": [
    "# a. \n",
    "Write a function inside(x,y,x1,y1,x2,y2) that returns True or False depending on whether the point (x,y) lies in the rectangle\n",
    "#with lower left corner (x1,y1) and upper right corner (x2,y2).\n",
    "#>>> inside(1,1,0,0,2,3) True, >>> inside(-1,-1,0,0,2,3) False"
   ]
  },
  {
   "cell_type": "code",
   "execution_count": 20,
   "id": "e599e112",
   "metadata": {},
   "outputs": [
    {
     "name": "stdout",
     "output_type": "stream",
     "text": [
      "True\n",
      "False\n"
     ]
    }
   ],
   "source": [
    "def inside(x,y,x1,y1,x2,y2):\n",
    "    return x1<=x<=x2 and y1<=y<=y2\n",
    "print(inside(1,1,0,0,2,3))\n",
    "print(inside(-1,-1,0,0,2,3))"
   ]
  },
  {
   "cell_type": "markdown",
   "id": "04d7bc3f",
   "metadata": {},
   "source": [
    "# b.\n",
    "Use function inside() from part a. to write an expression that tests whetherthe point (1,1) lies in both of the following rectangles:\n",
    "#one with lower left corner (0.3, 0.5) and upper right corner (1.1, 0.7) and the other with lowerleft corner (0.5, 0.2) and\n",
    "#upper right corner (1.1, 2).\n"
   ]
  },
  {
   "cell_type": "code",
   "execution_count": 13,
   "id": "f9f338c1",
   "metadata": {},
   "outputs": [
    {
     "name": "stdout",
     "output_type": "stream",
     "text": [
      "Point (1, 1) is inside both rectangles: False\n"
     ]
    }
   ],
   "source": [
    "def inside(x, y, x1, y1, x2, y2):\n",
    "    return x1 <= x <= x2 and y1 <= y <= y2\n",
    "\n",
    "# Define rectangle coordinates\n",
    "rectangles = [((0.3, 0.5), (1.1, 0.7)), ((0.5, 0.2), (1.1, 2))]\n",
    "\n",
    "# Check if (1, 1) lies in both rectangles\n",
    "point_in_both_rectangles = all(inside(1, 1, *rect[0], *rect[1]) for rect in rectangles)\n",
    "\n",
    "print(\"Point (1, 1) is inside both rectangles:\", point_in_both_rectangles)"
   ]
  },
  {
   "cell_type": "markdown",
   "id": "9dbdd726",
   "metadata": {},
   "source": [
    "# Question 6\n",
    "#You can turn a word into pig-Latin using the following two rules (simplified):\n",
    "#• If the word starts with a consonant, move that letter to the end and append'ay'. For example, 'happy' becomes 'appyhay' and 'pencil' becomes 'encilpay'.\n",
    "#• If the word starts with a vowel, simply append 'way' to the end of the word.For example, 'enter' becomes 'enterway' and 'other' becomes 'otherway' . For\n",
    "#our purposes, there are 5 vowels: a, e, i, o, u (so we count y as a consonant). Write a function pig() that takes a word (i.e., a string) as input and returns \n",
    "#its pigLatin form.Your function should still work if the input word contains upper case characters. Your output should always be lower case however. \n",
    "#>>> pig('happy') 'appyhay', >>> pig('Enter') 'enterway' "
   ]
  },
  {
   "cell_type": "code",
   "execution_count": 16,
   "id": "8f39db70",
   "metadata": {},
   "outputs": [
    {
     "name": "stdout",
     "output_type": "stream",
     "text": [
      "appyhway\n",
      "enterway\n"
     ]
    }
   ],
   "source": [
    "def pig(word):\n",
    "    word=word.lower()\n",
    "    vowels=['a','e','i','o','u']\n",
    "    if word[0] in vowels:\n",
    "        pig_latin_word=word+'way'\n",
    "    else:\n",
    "        pig_latin_word=word[i:]+word[0]+'ay'\n",
    "    return pig_latin_word\n",
    "print(pig('appyh'))\n",
    "print(pig('enter'))"
   ]
  },
  {
   "cell_type": "markdown",
   "id": "b06e2f60",
   "metadata": {},
   "source": [
    "# Question 7\n",
    "#File bloodtype1.txt records blood-types of patients (A, B, AB, O or OO) at a clinic. Write a function bldcount() that reads the file with \n",
    "#name name and reports (i.e.,prints) how many patients there are in each bloodtype. >>> bldcount('bloodtype.txt')There are 10 patients of\n",
    "#blood type A.,There is one patient of blood type B.There are 10 patients of blood type AB.,There are 12 patients of blood type O.,\n",
    "#There are no patients of blood type OO.\n"
   ]
  },
  {
   "cell_type": "code",
   "execution_count": 23,
   "id": "a315ba96",
   "metadata": {},
   "outputs": [
    {
     "name": "stdout",
     "output_type": "stream",
     "text": [
      "There are 15 patients of blood type: A\n",
      "There is one patient of blood type: B\n",
      "There are 13 patients of blood type: AB\n",
      "There are 15 patients of blood type: O\n",
      "There are no patients of blood type: OO\n"
     ]
    }
   ],
   "source": [
    "import os\n",
    "\n",
    "def bldcount(filename):\n",
    "    # to see if the file exists\n",
    "    if not os.path.exists(filename):\n",
    "        print(\"The specified file was not found.\")\n",
    "        return\n",
    "\n",
    "    # read the content of the file\n",
    "    with open(filename, 'r') as file:\n",
    "        blood_types = file.read().split()\n",
    "\n",
    "    # count the occurrences of each blood type\n",
    "    blood_type_counts = {'A': 0, 'B': 0, 'AB': 0, 'O': 0, 'OO': 0}\n",
    "    for blood_type in blood_types:\n",
    "        if blood_type in blood_type_counts:\n",
    "            blood_type_counts[blood_type] += 1\n",
    "\n",
    "    # print the counts of each blood type\n",
    "    for blood_type, count in blood_type_counts.items():\n",
    "        if count == 1:\n",
    "            print(\"There is one patient of blood type:\", blood_type)\n",
    "        elif count > 1:\n",
    "            print(\"There are\", count, \"patients of blood type:\", blood_type)\n",
    "        else:\n",
    "            print(\"There are no patients of blood type:\", blood_type)\n",
    "folder_path = 'C:\\\\Users\\\\hp\\\\Desktop\\\\BDAT\\\\'\n",
    "file_name = 'bloodtype1.txt'\n",
    "file_path = os.path.join(folder_path, file_name)\n",
    "\n",
    "bldcount(file_path)"
   ]
  },
  {
   "cell_type": "markdown",
   "id": "352e9c78",
   "metadata": {},
   "source": [
    "# Question 8\n",
    "#Write a function curconv() that takes as input:\n",
    "#1. a currency represented using a string (e.g., 'JPY' for the Japanese Yen or\n",
    "#'EUR' for the Euro), 2. an amount and then converts and returns the amount in US dollars.\n",
    "#>>> curconv('EUR', 100) 122.96544, >>> curconv('JPY', 100) 1.241401\n",
    "#The currency rates you will need are stored in file currencies.txt: AUD 1.0345157 Australian Dollar\n",
    "#CHF 1.0237414 Swiss Franc, CNY 0.1550176 Chinese Yuan\n",
    "#DKK 0.1651442 Danish Krone EUR 1.2296544 Euro\n",
    "#GBP 1.5550989 British Pound HKD 0.1270207 Hong Kong Dollar\n",
    "#INR 0.0177643 Indian Rupee  JPY 0.01241401 Japanese Yen\n",
    "#MXN 0.0751848 Mexican Peso  MYR 0.3145411 Malaysian Ringgit\n",
    "#NOK 0.1677063 Norwegian Krone NZD 0.8003591 New Zealand Dollar\n",
    "#PHP 0.0233234 Philippine Peso SEK 0.148269 Swedish Krona\n",
    "#SGD 0.788871 Singapore Dollar  THB 0.0313789 Thai Baht"
   ]
  },
  {
   "cell_type": "code",
   "execution_count": 31,
   "id": "093019b8",
   "metadata": {},
   "outputs": [
    {
     "name": "stdout",
     "output_type": "stream",
     "text": [
      "The EUR in USD is: 122.965440\n",
      "The JPY in USD is: 1.241401\n"
     ]
    }
   ],
   "source": [
    "import os\n",
    "\n",
    "def curconv(currency, amount):\n",
    "    file_path = r'C:\\Users\\hp\\Desktop\\BDAT\\currencies.txt'\n",
    "    # load currency conversion rates from the 'currencies.txt' file\n",
    "    with open(file_path, 'r') as file:\n",
    "        lines = file.readlines()\n",
    "        currency_rates = {}\n",
    "        for line in lines:\n",
    "            parts = line.split()\n",
    "            currency_rates[parts[0]] = float(parts[1])\n",
    "    # See if the specified currency is in the rates dictionary\n",
    "    if currency in currency_rates:        \n",
    "        usd_amount = amount * currency_rates[currency]\n",
    "        return usd_amount\n",
    "    else:\n",
    "        print(\"Currency not found in the rates.\")\n",
    "        return None\n",
    "eur_amount = curconv('EUR', 100)\n",
    "if eur_amount is not None:\n",
    "    print(\"The EUR in USD is: {:.6f}\".format(eur_amount))\n",
    "\n",
    "jpy_amount = curconv('JPY', 100)\n",
    "if jpy_amount is not None:\n",
    "    print(\"The JPY in USD is: {:.6f}\".format(jpy_amount))\n"
   ]
  },
  {
   "cell_type": "markdown",
   "id": "e26032d2",
   "metadata": {},
   "source": [
    "# Question 9\n",
    "#Each of the following will cause an exception (an error). Identify what type ofexception each will cause.\n",
    "\n",
    "#Using an undeclared variable, such as print(x) when x has not been defined\n",
    "#Trying to open a file that does not exist, such as mistyping the file name or looking in the wrongdirectory."
   ]
  },
  {
   "cell_type": "markdown",
   "id": "dcce2ca3",
   "metadata": {},
   "source": [
    "# a\n",
    "#Trying to add incompatible variables, as in adding 6 + ‘a’"
   ]
  },
  {
   "cell_type": "code",
   "execution_count": 33,
   "id": "fe36feb5",
   "metadata": {},
   "outputs": [
    {
     "ename": "TypeError",
     "evalue": "unsupported operand type(s) for +: 'int' and 'str'",
     "output_type": "error",
     "traceback": [
      "\u001b[1;31m---------------------------------------------------------------------------\u001b[0m",
      "\u001b[1;31mTypeError\u001b[0m                                 Traceback (most recent call last)",
      "Cell \u001b[1;32mIn[33], line 3\u001b[0m\n\u001b[0;32m      1\u001b[0m \u001b[38;5;66;03m#Trying to add incompatible variables, as in adding 6 + ‘a’\u001b[39;00m\n\u001b[1;32m----> 3\u001b[0m \u001b[38;5;28msum\u001b[39m\u001b[38;5;241m=\u001b[39m\u001b[38;5;241m6\u001b[39m \u001b[38;5;241m+\u001b[39m\u001b[38;5;124m'\u001b[39m\u001b[38;5;124ma\u001b[39m\u001b[38;5;124m'\u001b[39m\n\u001b[0;32m      4\u001b[0m \u001b[38;5;28mprint\u001b[39m(\u001b[38;5;28msum\u001b[39m)\n",
      "\u001b[1;31mTypeError\u001b[0m: unsupported operand type(s) for +: 'int' and 'str'"
     ]
    }
   ],
   "source": [
    "sum=6 +'a'\n",
    "print(sum)\n",
    "\n",
    "# 'TypeError',integer can not be added to string, incompatible variables"
   ]
  },
  {
   "cell_type": "markdown",
   "id": "af2fdb0f",
   "metadata": {},
   "source": [
    "# b\n",
    "#Referring to the 12th item of a list that has only 10 items"
   ]
  },
  {
   "cell_type": "code",
   "execution_count": 34,
   "id": "e0b61368",
   "metadata": {},
   "outputs": [
    {
     "ename": "IndexError",
     "evalue": "list index out of range",
     "output_type": "error",
     "traceback": [
      "\u001b[1;31m---------------------------------------------------------------------------\u001b[0m",
      "\u001b[1;31mIndexError\u001b[0m                                Traceback (most recent call last)",
      "Cell \u001b[1;32mIn[34], line 5\u001b[0m\n\u001b[0;32m      3\u001b[0m a\u001b[38;5;241m=\u001b[39m[\u001b[38;5;241m1\u001b[39m,\u001b[38;5;241m1\u001b[39m,\u001b[38;5;241m1\u001b[39m,\u001b[38;5;241m1\u001b[39m,\u001b[38;5;241m1\u001b[39m,\u001b[38;5;241m1\u001b[39m,\u001b[38;5;241m1\u001b[39m,\u001b[38;5;241m1\u001b[39m,\u001b[38;5;241m1\u001b[39m,\u001b[38;5;241m1\u001b[39m]\n\u001b[0;32m      4\u001b[0m \u001b[38;5;66;03m#for i in a:\u001b[39;00m\n\u001b[1;32m----> 5\u001b[0m \u001b[38;5;28mprint\u001b[39m(a[\u001b[38;5;241m11\u001b[39m])\n",
      "\u001b[1;31mIndexError\u001b[0m: list index out of range"
     ]
    }
   ],
   "source": [
    "\n",
    "a=[1,1,1,1,1,1,1,1,1,1]\n",
    "#for i in a:\n",
    "print(a[11])\n",
    "\n",
    "#'IndexError', list index out of range"
   ]
  },
  {
   "cell_type": "markdown",
   "id": "0c02e951",
   "metadata": {},
   "source": [
    "# c\n",
    "#Using a value that is out of range for a function’sinput, such as calling math.sqrt(-1.0)"
   ]
  },
  {
   "cell_type": "code",
   "execution_count": 2,
   "id": "7d87b3a4",
   "metadata": {},
   "outputs": [
    {
     "ename": "ValueError",
     "evalue": "math domain error",
     "output_type": "error",
     "traceback": [
      "\u001b[1;31m---------------------------------------------------------------------------\u001b[0m",
      "\u001b[1;31mValueError\u001b[0m                                Traceback (most recent call last)",
      "Cell \u001b[1;32mIn[2], line 4\u001b[0m\n\u001b[0;32m      1\u001b[0m \u001b[38;5;66;03m#Using a value that is out of range for a function’sinput, such as calling math.sqrt(-1.0)\u001b[39;00m\n\u001b[0;32m      2\u001b[0m \n\u001b[0;32m      3\u001b[0m \u001b[38;5;66;03m#import math\u001b[39;00m\n\u001b[1;32m----> 4\u001b[0m s\u001b[38;5;241m=\u001b[39mmath\u001b[38;5;241m.\u001b[39msqrt(\u001b[38;5;241m-\u001b[39m\u001b[38;5;241m1.0\u001b[39m)\n\u001b[0;32m      5\u001b[0m \u001b[38;5;28mprint\u001b[39m(s)\n",
      "\u001b[1;31mValueError\u001b[0m: math domain error"
     ]
    }
   ],
   "source": [
    "\n",
    "s=math.sqrt(-1.0)\n",
    "print(s)"
   ]
  },
  {
   "cell_type": "markdown",
   "id": "9b39df02",
   "metadata": {},
   "source": [
    "# d\n",
    "#Using an undeclared variable, such as print(x) when x has not been defined "
   ]
  },
  {
   "cell_type": "code",
   "execution_count": 3,
   "id": "8bfd0ac0",
   "metadata": {},
   "outputs": [
    {
     "ename": "NameError",
     "evalue": "name 'x' is not defined",
     "output_type": "error",
     "traceback": [
      "\u001b[1;31m---------------------------------------------------------------------------\u001b[0m",
      "\u001b[1;31mNameError\u001b[0m                                 Traceback (most recent call last)",
      "Cell \u001b[1;32mIn[3], line 1\u001b[0m\n\u001b[1;32m----> 1\u001b[0m \u001b[38;5;28mprint\u001b[39m(x)\n",
      "\u001b[1;31mNameError\u001b[0m: name 'x' is not defined"
     ]
    }
   ],
   "source": [
    "print(x)"
   ]
  },
  {
   "cell_type": "markdown",
   "id": "3fd68120",
   "metadata": {},
   "source": [
    "# e\n",
    "#Trying to open a file that does not exist, such as mistyping the file name or looking in the wrong directory"
   ]
  },
  {
   "cell_type": "code",
   "execution_count": 5,
   "id": "f0324696",
   "metadata": {},
   "outputs": [
    {
     "ename": "FileNotFoundError",
     "evalue": "[Errno 2] No such file or directory: 'nonexistent_file.txt'",
     "output_type": "error",
     "traceback": [
      "\u001b[1;31m---------------------------------------------------------------------------\u001b[0m",
      "\u001b[1;31mFileNotFoundError\u001b[0m                         Traceback (most recent call last)",
      "Cell \u001b[1;32mIn[5], line 1\u001b[0m\n\u001b[1;32m----> 1\u001b[0m \u001b[38;5;28;01mwith\u001b[39;00m \u001b[38;5;28mopen\u001b[39m(\u001b[38;5;124m'\u001b[39m\u001b[38;5;124mnonexistent_file.txt\u001b[39m\u001b[38;5;124m'\u001b[39m, \u001b[38;5;124m'\u001b[39m\u001b[38;5;124mr\u001b[39m\u001b[38;5;124m'\u001b[39m) \u001b[38;5;28;01mas\u001b[39;00m file:\n\u001b[0;32m      2\u001b[0m     content \u001b[38;5;241m=\u001b[39m file\u001b[38;5;241m.\u001b[39mread()\n",
      "File \u001b[1;32m~\\anaconda3\\Lib\\site-packages\\IPython\\core\\interactiveshell.py:284\u001b[0m, in \u001b[0;36m_modified_open\u001b[1;34m(file, *args, **kwargs)\u001b[0m\n\u001b[0;32m    277\u001b[0m \u001b[38;5;28;01mif\u001b[39;00m file \u001b[38;5;129;01min\u001b[39;00m {\u001b[38;5;241m0\u001b[39m, \u001b[38;5;241m1\u001b[39m, \u001b[38;5;241m2\u001b[39m}:\n\u001b[0;32m    278\u001b[0m     \u001b[38;5;28;01mraise\u001b[39;00m \u001b[38;5;167;01mValueError\u001b[39;00m(\n\u001b[0;32m    279\u001b[0m         \u001b[38;5;124mf\u001b[39m\u001b[38;5;124m\"\u001b[39m\u001b[38;5;124mIPython won\u001b[39m\u001b[38;5;124m'\u001b[39m\u001b[38;5;124mt let you open fd=\u001b[39m\u001b[38;5;132;01m{\u001b[39;00mfile\u001b[38;5;132;01m}\u001b[39;00m\u001b[38;5;124m by default \u001b[39m\u001b[38;5;124m\"\u001b[39m\n\u001b[0;32m    280\u001b[0m         \u001b[38;5;124m\"\u001b[39m\u001b[38;5;124mas it is likely to crash IPython. If you know what you are doing, \u001b[39m\u001b[38;5;124m\"\u001b[39m\n\u001b[0;32m    281\u001b[0m         \u001b[38;5;124m\"\u001b[39m\u001b[38;5;124myou can use builtins\u001b[39m\u001b[38;5;124m'\u001b[39m\u001b[38;5;124m open.\u001b[39m\u001b[38;5;124m\"\u001b[39m\n\u001b[0;32m    282\u001b[0m     )\n\u001b[1;32m--> 284\u001b[0m \u001b[38;5;28;01mreturn\u001b[39;00m io_open(file, \u001b[38;5;241m*\u001b[39margs, \u001b[38;5;241m*\u001b[39m\u001b[38;5;241m*\u001b[39mkwargs)\n",
      "\u001b[1;31mFileNotFoundError\u001b[0m: [Errno 2] No such file or directory: 'nonexistent_file.txt'"
     ]
    }
   ],
   "source": [
    "with open('nonexistent_file.txt', 'r') as file:\n",
    "    content = file.read() "
   ]
  },
  {
   "cell_type": "markdown",
   "id": "aa60fcbd",
   "metadata": {},
   "source": [
    "# Question 10\n",
    "#Encrypopen('nonexistent_file.txt', 'r') as file:\n",
    "    content = file.read()tion is the process of hiding the meaning of a text by substituting letters in themessage with other letters, according to some system. If the process is successful, \n",
    "#no one but the intended recipient can understand the encrypted message. Cryptanalysisrefers to attempts to undo the encryption, even if some details of the encryption are\n",
    "#unknown (for example, if an encrypted message has been intercepted). The first stepof cryptanalysis is often to build up a table of letter frequencies in the encrypted text.\n",
    "#Assume that the string letters is already defined as'abcdefghijklmnopqrstuvwxyz'. Write a function called frequencies()that takes a string as its only parameter, and returns \n",
    "#a list of integers, showing the number of times each character appears in the text. Your function may ignore anycharacters that are not in letters.\n",
    "#>>> frequencies('The quick red fox got bored and went home.')\n",
    "#[1, 1, 1, 3, 5, 1, 1, 2, 1, 0, 1, 0, 1, 2, 4, 0, 1, 2, 0, 2, 1, 0, 1, 1, 0, 0]>>> frequencies('apple')\n",
    "\n"
   ]
  },
  {
   "cell_type": "code",
   "execution_count": 6,
   "id": "74bccb5e",
   "metadata": {},
   "outputs": [
    {
     "name": "stdout",
     "output_type": "stream",
     "text": [
      "[1, 1, 1, 3, 5, 1, 1, 2, 1, 0, 1, 0, 1, 2, 4, 0, 1, 2, 0, 3, 1, 0, 1, 1, 0, 0]\n",
      "[1, 0, 0, 0, 1, 0, 0, 0, 0, 0, 0, 1, 0, 0, 0, 2, 0, 0, 0, 0, 0, 0, 0, 0, 0, 0]\n"
     ]
    }
   ],
   "source": [
    "def frequencies(text):\n",
    "    letters = 'abcdefghijklmnopqrstuvwxyz'\n",
    "    char_frequencies = [0] * 26  # Initialize with zeros for each letter\n",
    "    text = text.lower()   \n",
    "    for char in text:\n",
    "       if char in letters:\n",
    "           index = letters.index(char)\n",
    "           char_frequencies[index] += 1\n",
    "    return char_frequencies\n",
    "result1 = frequencies('The quick red fox got bored and went home.')\n",
    "print(result1)\n",
    "\n",
    "result2 = frequencies('apple')\n",
    "print(result2)"
   ]
  },
  {
   "cell_type": "code",
   "execution_count": null,
   "id": "38676bf0",
   "metadata": {},
   "outputs": [],
   "source": []
  }
 ],
 "metadata": {
  "kernelspec": {
   "display_name": "Python 3 (ipykernel)",
   "language": "python",
   "name": "python3"
  },
  "language_info": {
   "codemirror_mode": {
    "name": "ipython",
    "version": 3
   },
   "file_extension": ".py",
   "mimetype": "text/x-python",
   "name": "python",
   "nbconvert_exporter": "python",
   "pygments_lexer": "ipython3",
   "version": "3.11.4"
  }
 },
 "nbformat": 4,
 "nbformat_minor": 5
}
